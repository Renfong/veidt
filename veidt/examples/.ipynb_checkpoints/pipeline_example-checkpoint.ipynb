{
 "cells": [
  {
   "cell_type": "code",
   "execution_count": 4,
   "metadata": {},
   "outputs": [],
   "source": [
    "from veidt.describer.structural_describer import DistinctSiteProperty\n",
    "from veidt.model import linear_model\n",
    "from sklearn.pipeline import Pipeline\n",
    "from sklearn.preprocessing import StandardScaler\n",
    "from pymatgen.core import Structure\n",
    "import os\n",
    "\n",
    "\n",
    "li2o = Structure.from_file(os.path.join('/Users/chenchi/repos/veidt/veidt/tests/Li2O.cif'))\n",
    "na2o = Structure.from_file('/Users/chenchi/repos/veidt/veidt/tests/Na2O.cif')\n",
    "\n",
    "structures = [li2o, na2o]\n",
    "\n"
   ]
  },
  {
   "cell_type": "code",
   "execution_count": 5,
   "metadata": {},
   "outputs": [],
   "source": [
    "dsp = DistinctSiteProperty(['8c', '4a'], [\"Z\", \"atomic_radius\"])"
   ]
  },
  {
   "cell_type": "code",
   "execution_count": 6,
   "metadata": {},
   "outputs": [
    {
     "data": {
      "text/plain": [
       "array([[  3.  ,   1.45,   8.  ,   0.6 ],\n",
       "       [ 11.  ,   1.8 ,   8.  ,   0.6 ]])"
      ]
     },
     "execution_count": 6,
     "metadata": {},
     "output_type": "execute_result"
    }
   ],
   "source": [
    "dsp.fit_transform(structures)"
   ]
  },
  {
   "cell_type": "code",
   "execution_count": null,
   "metadata": {},
   "outputs": [],
   "source": []
  }
 ],
 "metadata": {
  "anaconda-cloud": {},
  "kernelspec": {
   "display_name": "Python 3",
   "language": "python",
   "name": "python3"
  },
  "language_info": {
   "codemirror_mode": {
    "name": "ipython",
    "version": 3
   },
   "file_extension": ".py",
   "mimetype": "text/x-python",
   "name": "python",
   "nbconvert_exporter": "python",
   "pygments_lexer": "ipython3",
   "version": "3.6.3"
  }
 },
 "nbformat": 4,
 "nbformat_minor": 1
}
